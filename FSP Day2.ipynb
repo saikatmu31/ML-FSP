{
 "cells": [
  {
   "cell_type": "markdown",
   "id": "7c00045b",
   "metadata": {},
   "source": [
    "# Numpy Library"
   ]
  },
  {
   "cell_type": "code",
   "execution_count": 1,
   "id": "625e6905",
   "metadata": {},
   "outputs": [],
   "source": [
    "import numpy as np"
   ]
  },
  {
   "cell_type": "code",
   "execution_count": 2,
   "id": "5eb68b9a",
   "metadata": {},
   "outputs": [
    {
     "data": {
      "text/plain": [
       "array([ 1,  2,  3,  4,  5,  6,  7,  8,  9, 10])"
      ]
     },
     "execution_count": 2,
     "metadata": {},
     "output_type": "execute_result"
    }
   ],
   "source": [
    "a = np.arange(1,11)\n",
    "a"
   ]
  },
  {
   "cell_type": "code",
   "execution_count": 3,
   "id": "34a41c8a",
   "metadata": {},
   "outputs": [
    {
     "data": {
      "text/plain": [
       "[10.2, 20.4, 8.9, 7.0, 1.4, 4, 3, 2.9, 5.9, 22.7, 32.7, 34.6]"
      ]
     },
     "execution_count": 3,
     "metadata": {},
     "output_type": "execute_result"
    }
   ],
   "source": [
    "cvalues = [10.2,20.4,8.9,7.0,1.4,4,3,2.9,5.9,22.7,32.7,34.6]\n",
    "cvalues"
   ]
  },
  {
   "cell_type": "code",
   "execution_count": 4,
   "id": "fe927a46",
   "metadata": {},
   "outputs": [
    {
     "data": {
      "text/plain": [
       "array([10.2, 20.4,  8.9,  7. ,  1.4,  4. ,  3. ,  2.9,  5.9, 22.7, 32.7,\n",
       "       34.6])"
      ]
     },
     "execution_count": 4,
     "metadata": {},
     "output_type": "execute_result"
    }
   ],
   "source": [
    "c = np.array(cvalues)\n",
    "c"
   ]
  },
  {
   "cell_type": "code",
   "execution_count": 5,
   "id": "fb8718b5",
   "metadata": {},
   "outputs": [
    {
     "name": "stdout",
     "output_type": "stream",
     "text": [
      "[50.36 68.72 48.02 44.6  34.52 39.2  37.4  37.22 42.62 72.86 90.86 94.28]\n"
     ]
    }
   ],
   "source": [
    "print(c*9/5+32)"
   ]
  },
  {
   "cell_type": "code",
   "execution_count": 6,
   "id": "0d3b59fd",
   "metadata": {},
   "outputs": [
    {
     "data": {
      "text/plain": [
       "array([10.2, 20.4,  8.9,  7. ,  1.4,  4. ,  3. ,  2.9,  5.9, 22.7, 32.7,\n",
       "       34.6])"
      ]
     },
     "execution_count": 6,
     "metadata": {},
     "output_type": "execute_result"
    }
   ],
   "source": [
    "c"
   ]
  },
  {
   "cell_type": "code",
   "execution_count": 7,
   "id": "e20c3123",
   "metadata": {},
   "outputs": [
    {
     "data": {
      "text/plain": [
       "numpy.ndarray"
      ]
     },
     "execution_count": 7,
     "metadata": {},
     "output_type": "execute_result"
    }
   ],
   "source": [
    "type(c)\n"
   ]
  },
  {
   "cell_type": "code",
   "execution_count": 8,
   "id": "bb9ab070",
   "metadata": {},
   "outputs": [],
   "source": [
    "import matplotlib.pyplot as plt"
   ]
  },
  {
   "cell_type": "code",
   "execution_count": 9,
   "id": "b45d17f4",
   "metadata": {},
   "outputs": [],
   "source": [
    "%matplotlib inline"
   ]
  },
  {
   "cell_type": "code",
   "execution_count": 10,
   "id": "d5693e32",
   "metadata": {},
   "outputs": [
    {
     "data": {
      "image/png": "[encoded data removed]",
      "text/plain": [
       "<Figure size 640x480 with 1 Axes>"
      ]
     },
     "metadata": {},
     "output_type": "display_data"
    }
   ],
   "source": [
    "plt.plot(c)\n",
    "plt.show()"
   ]
  },
  {
   "cell_type": "code",
   "execution_count": 11,
   "id": "b70015c1",
   "metadata": {},
   "outputs": [],
   "source": [
    "from sys import getsizeof as size"
   ]
  },
  {
   "cell_type": "code",
   "execution_count": 12,
   "id": "eb1c5d47",
   "metadata": {},
   "outputs": [
    {
     "name": "stdout",
     "output_type": "stream",
     "text": [
      "The Size of List Object :  120\n",
      "The Size of One List Object :  28\n",
      "The Size of All Pointer Object :  84\n",
      "Total Size Occupied :  204\n"
     ]
    }
   ],
   "source": [
    "lst = [1,2,3]\n",
    "size_of_list_object = size(lst)\n",
    "size_of_individual_element = size(lst[0])\n",
    "size_of_the_pointer_elements = size_of_individual_element*3\n",
    "total_size = size_of_list_object+size_of_the_pointer_elements\n",
    "print(\"The Size of List Object : \",size_of_list_object)\n",
    "print(\"The Size of One List Object : \",size_of_individual_element)\n",
    "print(\"The Size of All Pointer Object : \",size_of_the_pointer_elements)\n",
    "print(\"Total Size Occupied : \",total_size)"
   ]
  },
  {
   "cell_type": "code",
   "execution_count": 13,
   "id": "746d3d33",
   "metadata": {},
   "outputs": [
    {
     "name": "stdout",
     "output_type": "stream",
     "text": [
      "The Size of List Object :  120\n",
      "The Size of One List Object :  28\n",
      "The Size of All Pointer Object :  84\n",
      "Total Size Occupied :  204\n"
     ]
    }
   ],
   "source": [
    "lst = [34,22,53,82]\n",
    "size_of_list_object = size(lst)\n",
    "size_of_individual_element = size(lst[0])\n",
    "size_of_the_pointer_elements = size_of_individual_element*3\n",
    "total_size = size_of_list_object+size_of_the_pointer_elements\n",
    "print(\"The Size of List Object : \",size_of_list_object)\n",
    "print(\"The Size of One List Object : \",size_of_individual_element)\n",
    "print(\"The Size of All Pointer Object : \",size_of_the_pointer_elements)\n",
    "print(\"Total Size Occupied : \",total_size)"
   ]
  },
  {
   "cell_type": "code",
   "execution_count": 14,
   "id": "7c9d5b6a",
   "metadata": {},
   "outputs": [],
   "source": [
    "a = np.array([1,2,3])"
   ]
  },
  {
   "cell_type": "code",
   "execution_count": 15,
   "id": "fbfed70c",
   "metadata": {},
   "outputs": [
    {
     "name": "stdout",
     "output_type": "stream",
     "text": [
      "116\n"
     ]
    }
   ],
   "source": [
    "print(size((a)))"
   ]
  },
  {
   "cell_type": "code",
   "execution_count": 16,
   "id": "a29ddd23",
   "metadata": {},
   "outputs": [],
   "source": [
    "e = np.array([])"
   ]
  },
  {
   "cell_type": "code",
   "execution_count": 17,
   "id": "7b77a067",
   "metadata": {},
   "outputs": [
    {
     "name": "stdout",
     "output_type": "stream",
     "text": [
      "104\n"
     ]
    }
   ],
   "source": [
    "print(size(e))"
   ]
  },
  {
   "cell_type": "markdown",
   "id": "87516951",
   "metadata": {},
   "source": [
    "## Time Function"
   ]
  },
  {
   "cell_type": "code",
   "execution_count": 18,
   "id": "9cc640c5",
   "metadata": {},
   "outputs": [],
   "source": [
    "import time\n",
    "size_of_array = 10000000\n",
    "\n",
    "def python_traversal():\n",
    "    t1=time.time()\n",
    "    X = range(size_of_array)\n",
    "    Y = range(size_of_array)   \n",
    "    Z = [X[i]+Y[i] for i in range(len(X))]\n",
    "    return time.time()-t1"
   ]
  },
  {
   "cell_type": "code",
   "execution_count": 19,
   "id": "d20484ed",
   "metadata": {},
   "outputs": [],
   "source": [
    "def numpy_methord():\n",
    "    t2=time.time()\n",
    "    X=np.arange(size_of_array)\n",
    "    Y=np.arange(size_of_array)    \n",
    "    Z=X+Y\n",
    "    return time.time()-t2"
   ]
  },
  {
   "cell_type": "code",
   "execution_count": 20,
   "id": "b1a8bd15",
   "metadata": {},
   "outputs": [
    {
     "name": "stdout",
     "output_type": "stream",
     "text": [
      "Numpy Finish at :  0.06943821907043457 Python Finishes at:  5.4153101444244385\n"
     ]
    }
   ],
   "source": [
    "t1 = numpy_methord()\n",
    "t2 = python_traversal()\n",
    "print(\"Numpy Finish at : \",t1,\"Python Finishes at: \",t2)"
   ]
  },
  {
   "cell_type": "code",
   "execution_count": 21,
   "id": "30404a15",
   "metadata": {},
   "outputs": [
    {
     "name": "stdout",
     "output_type": "stream",
     "text": [
      "Numpy is  77.98745729540421 times faster\n"
     ]
    }
   ],
   "source": [
    "print(\"Numpy is \",str(t2/t1),\"times faster\")"
   ]
  },
  {
   "cell_type": "code",
   "execution_count": 22,
   "id": "a91a688a",
   "metadata": {},
   "outputs": [],
   "source": [
    "import numpy as np\n",
    "a = np.arange(1,10)"
   ]
  },
  {
   "cell_type": "code",
   "execution_count": 23,
   "id": "89eb9857",
   "metadata": {},
   "outputs": [
    {
     "data": {
      "text/plain": [
       "array([1, 2, 3, 4, 5, 6, 7, 8, 9])"
      ]
     },
     "execution_count": 23,
     "metadata": {},
     "output_type": "execute_result"
    }
   ],
   "source": [
    "a"
   ]
  },
  {
   "cell_type": "code",
   "execution_count": 24,
   "id": "9312acc4",
   "metadata": {},
   "outputs": [
    {
     "data": {
      "text/plain": [
       "range(1, 10)"
      ]
     },
     "execution_count": 24,
     "metadata": {},
     "output_type": "execute_result"
    }
   ],
   "source": [
    "pythonList = range(1,10)\n",
    "pythonList"
   ]
  },
  {
   "cell_type": "code",
   "execution_count": 25,
   "id": "3879baf0",
   "metadata": {},
   "outputs": [],
   "source": [
    "listItem = list(pythonList)"
   ]
  },
  {
   "cell_type": "code",
   "execution_count": 26,
   "id": "0bfbbd9b",
   "metadata": {},
   "outputs": [
    {
     "data": {
      "text/plain": [
       "[1, 2, 3, 4, 5, 6, 7, 8, 9]"
      ]
     },
     "execution_count": 26,
     "metadata": {},
     "output_type": "execute_result"
    }
   ],
   "source": [
    "listItem"
   ]
  },
  {
   "cell_type": "code",
   "execution_count": 27,
   "id": "5499c9af",
   "metadata": {},
   "outputs": [],
   "source": [
    "newnpList = np.arange(start=0.3,stop=10.9,step=0.6)"
   ]
  },
  {
   "cell_type": "code",
   "execution_count": 28,
   "id": "dbc8cb89",
   "metadata": {},
   "outputs": [
    {
     "data": {
      "text/plain": [
       "array([ 0.3,  0.9,  1.5,  2.1,  2.7,  3.3,  3.9,  4.5,  5.1,  5.7,  6.3,\n",
       "        6.9,  7.5,  8.1,  8.7,  9.3,  9.9, 10.5])"
      ]
     },
     "execution_count": 28,
     "metadata": {},
     "output_type": "execute_result"
    }
   ],
   "source": [
    "newnpList"
   ]
  },
  {
   "cell_type": "code",
   "execution_count": 31,
   "id": "2f9cc7cf",
   "metadata": {},
   "outputs": [],
   "source": [
    "npList2 = np.arange(start=0.6,stop=12.3,step=0.7)"
   ]
  },
  {
   "cell_type": "code",
   "execution_count": 32,
   "id": "faef1c4d",
   "metadata": {},
   "outputs": [
    {
     "data": {
      "text/plain": [
       "array([ 0.6,  1.3,  2. ,  2.7,  3.4,  4.1,  4.8,  5.5,  6.2,  6.9,  7.6,\n",
       "        8.3,  9. ,  9.7, 10.4, 11.1, 11.8])"
      ]
     },
     "execution_count": 32,
     "metadata": {},
     "output_type": "execute_result"
    }
   ],
   "source": [
    "npList2"
   ]
  },
  {
   "cell_type": "code",
   "execution_count": 33,
   "id": "6af8332d",
   "metadata": {},
   "outputs": [],
   "source": [
    "npList2 = np.arange(start=0.6,stop=12.3,step=0.7,dtype=int)"
   ]
  },
  {
   "cell_type": "code",
   "execution_count": 41,
   "id": "ae919b0d",
   "metadata": {},
   "outputs": [
    {
     "data": {
      "text/plain": [
       "array([ 0,  1,  2,  3,  4,  5,  6,  7,  8,  9, 10, 11, 12, 13, 14, 15, 16])"
      ]
     },
     "execution_count": 41,
     "metadata": {},
     "output_type": "execute_result"
    }
   ],
   "source": [
    "npList2"
   ]
  },
  {
   "cell_type": "markdown",
   "id": "d726d3f3",
   "metadata": {},
   "source": [
    "## Zero Dimention Array"
   ]
  },
  {
   "cell_type": "code",
   "execution_count": 38,
   "id": "abaa1905",
   "metadata": {},
   "outputs": [
    {
     "name": "stdout",
     "output_type": "stream",
     "text": [
      "The Type of X is :  <class 'numpy.ndarray'>\n",
      "The dimention of X is :  0\n",
      "The shape of X is :  ()\n"
     ]
    }
   ],
   "source": [
    "x = np.array(42)\n",
    "print(\"The Type of X is : \",type(x))\n",
    "print(\"The dimention of X is : \",x.ndim)\n",
    "print(\"The shape of X is : \",x.shape)"
   ]
  },
  {
   "cell_type": "code",
   "execution_count": 55,
   "id": "231ad238",
   "metadata": {},
   "outputs": [
    {
     "name": "stdout",
     "output_type": "stream",
     "text": [
      "Type of X :  int32\n",
      "Type of Y :  float64\n",
      "Dimention of X 1\n",
      "Dimention of Y 1\n",
      "Shape of X :  (9,)\n",
      "Shape of Y :  (5,)\n"
     ]
    }
   ],
   "source": [
    "x=np.array([1,2,3,4,5,6,7,8,9])\n",
    "y = np.array([3.4,2.5,6.7,5.4,1.2])\n",
    "print(\"Type of X : \",x.dtype)\n",
    "print(\"Type of Y : \",y.dtype)\n",
    "print(\"Dimention of X\",x.ndim)\n",
    "print(\"Dimention of Y\",y.ndim)\n",
    "print(\"Shape of X : \",x.shape)\n",
    "print(\"Shape of Y : \",y.shape)"
   ]
  },
  {
   "cell_type": "code",
   "execution_count": 57,
   "id": "c08b0f34",
   "metadata": {},
   "outputs": [
    {
     "name": "stdout",
     "output_type": "stream",
     "text": [
      "Type of X :  int32\n",
      "Type of Y :  float64\n",
      "Dimention of X 2\n",
      "Dimention of Y 2\n",
      "Shape of X :  (2, 9)\n",
      "Shape of Y :  (2, 5)\n",
      "The Sum of Column Wise :  [ 2  4  6  8 10 12 14 16 18]\n",
      "The Sum of Row Wise :  [19.2 19.2]\n"
     ]
    }
   ],
   "source": [
    "x=np.array([[1,2,3,4,5,6,7,8,9],[1,2,3,4,5,6,7,8,9]])\n",
    "y = np.array([[3.4,2.5,6.7,5.4,1.2],[3.4,2.5,6.7,5.4,1.2]])\n",
    "print(\"Type of X : \",x.dtype)\n",
    "print(\"Type of Y : \",y.dtype)\n",
    "print(\"Dimention of X\",x.ndim)\n",
    "print(\"Dimention of Y\",y.ndim)\n",
    "print(\"Shape of X : \",x.shape)\n",
    "print(\"Shape of Y : \",y.shape)\n",
    "print(\"The Sum of Column Wise : \",x.sum(axis=0))\n",
    "print(\"The Sum of Row Wise : \",y.sum(axis=1))"
   ]
  },
  {
   "cell_type": "code",
   "execution_count": 61,
   "id": "f2322d20",
   "metadata": {},
   "outputs": [
    {
     "data": {
      "text/plain": [
       "array([ 1,  2,  3,  4,  5,  6,  7,  8,  9, 10])"
      ]
     },
     "execution_count": 61,
     "metadata": {},
     "output_type": "execute_result"
    }
   ],
   "source": [
    "np.linspace(1,10,10,dtype=int)"
   ]
  },
  {
   "cell_type": "markdown",
   "id": "42b62464",
   "metadata": {},
   "source": [
    "# Indexing and Slicing"
   ]
  },
  {
   "cell_type": "code",
   "execution_count": 66,
   "id": "313a5ae5",
   "metadata": {},
   "outputs": [],
   "source": [
    "X = np.linspace(1,30,28,dtype=int).reshape(4,7)"
   ]
  },
  {
   "cell_type": "code",
   "execution_count": 67,
   "id": "f613c0a4",
   "metadata": {},
   "outputs": [
    {
     "data": {
      "text/plain": [
       "array([[ 1,  2,  3,  4,  5,  6,  7],\n",
       "       [ 8,  9, 10, 11, 12, 13, 14],\n",
       "       [16, 17, 18, 19, 20, 21, 22],\n",
       "       [23, 24, 25, 26, 27, 28, 30]])"
      ]
     },
     "execution_count": 67,
     "metadata": {},
     "output_type": "execute_result"
    }
   ],
   "source": [
    "X\n"
   ]
  },
  {
   "cell_type": "code",
   "execution_count": 70,
   "id": "7f798862",
   "metadata": {},
   "outputs": [],
   "source": [
    "zero = np.zeros((4,4))"
   ]
  },
  {
   "cell_type": "code",
   "execution_count": 71,
   "id": "59688175",
   "metadata": {},
   "outputs": [
    {
     "data": {
      "text/plain": [
       "array([[0., 0., 0., 0.],\n",
       "       [0., 0., 0., 0.],\n",
       "       [0., 0., 0., 0.],\n",
       "       [0., 0., 0., 0.]])"
      ]
     },
     "execution_count": 71,
     "metadata": {},
     "output_type": "execute_result"
    }
   ],
   "source": [
    "zero"
   ]
  },
  {
   "cell_type": "code",
   "execution_count": 74,
   "id": "7a97c79b",
   "metadata": {},
   "outputs": [],
   "source": [
    "one = np.ones((5,5),dtype=int)"
   ]
  },
  {
   "cell_type": "code",
   "execution_count": 75,
   "id": "2ad9dec5",
   "metadata": {},
   "outputs": [
    {
     "data": {
      "text/plain": [
       "array([[1, 1, 1, 1, 1],\n",
       "       [1, 1, 1, 1, 1],\n",
       "       [1, 1, 1, 1, 1],\n",
       "       [1, 1, 1, 1, 1],\n",
       "       [1, 1, 1, 1, 1]])"
      ]
     },
     "execution_count": 75,
     "metadata": {},
     "output_type": "execute_result"
    }
   ],
   "source": [
    "one"
   ]
  },
  {
   "cell_type": "code",
   "execution_count": 111,
   "id": "832e4376",
   "metadata": {},
   "outputs": [],
   "source": [
    "identity = np.identity(5,dtype=int)"
   ]
  },
  {
   "cell_type": "code",
   "execution_count": 112,
   "id": "b0556af9",
   "metadata": {},
   "outputs": [
    {
     "data": {
      "text/plain": [
       "array([[1, 0, 0, 0, 0],\n",
       "       [0, 1, 0, 0, 0],\n",
       "       [0, 0, 1, 0, 0],\n",
       "       [0, 0, 0, 1, 0],\n",
       "       [0, 0, 0, 0, 1]])"
      ]
     },
     "execution_count": 112,
     "metadata": {},
     "output_type": "execute_result"
    }
   ],
   "source": [
    "identity"
   ]
  },
  {
   "cell_type": "code",
   "execution_count": 81,
   "id": "970f5df3",
   "metadata": {},
   "outputs": [
    {
     "name": "stdout",
     "output_type": "stream",
     "text": [
      "[1 1 1 1 1]\n",
      "[0 0 0 0 0]\n"
     ]
    }
   ],
   "source": [
    "X = np.array([1,2,3,4,5])\n",
    "Y = np.ones_like(X)\n",
    "print(Y)\n",
    "Z = np.zeros_like(X)\n",
    "print(Z)"
   ]
  },
  {
   "cell_type": "code",
   "execution_count": 85,
   "id": "721c627b",
   "metadata": {},
   "outputs": [
    {
     "data": {
      "text/plain": [
       "array([[3.4, 2.5, 6.7, 5.4, 1.2],\n",
       "       [3.4, 2.5, 6.7, 5.4, 1.2]])"
      ]
     },
     "execution_count": 85,
     "metadata": {},
     "output_type": "execute_result"
    }
   ],
   "source": [
    "np.empty((2,5))"
   ]
  },
  {
   "cell_type": "code",
   "execution_count": 90,
   "id": "f76ec991",
   "metadata": {},
   "outputs": [
    {
     "data": {
      "text/plain": [
       "array([[1., 0., 0., 0., 0.],\n",
       "       [0., 1., 0., 0., 0.],\n",
       "       [0., 0., 1., 0., 0.],\n",
       "       [0., 0., 0., 1., 0.],\n",
       "       [0., 0., 0., 0., 1.]])"
      ]
     },
     "execution_count": 90,
     "metadata": {},
     "output_type": "execute_result"
    }
   ],
   "source": [
    "np.empty((5,5))"
   ]
  },
  {
   "cell_type": "code",
   "execution_count": 107,
   "id": "e926104a",
   "metadata": {},
   "outputs": [
    {
     "data": {
      "text/plain": [
       "array([[ 0,  1,  2,  3,  4,  5,  6],\n",
       "       [ 7,  8,  9, 10, 11, 12, 13],\n",
       "       [14, 15, 16, 17, 18, 19, 20],\n",
       "       [21, 22, 23, 24, 25, 26, 27]])"
      ]
     },
     "execution_count": 107,
     "metadata": {},
     "output_type": "execute_result"
    }
   ],
   "source": [
    "x=np.array(np.arange(28).reshape(4,7))\n",
    "x"
   ]
  },
  {
   "cell_type": "code",
   "execution_count": 108,
   "id": "6d4e91d6",
   "metadata": {},
   "outputs": [],
   "source": [
    "y=x.copy()"
   ]
  },
  {
   "cell_type": "code",
   "execution_count": 109,
   "id": "92c46bbb",
   "metadata": {},
   "outputs": [
    {
     "data": {
      "text/plain": [
       "array([[ 0,  1,  2,  3,  4,  5,  6],\n",
       "       [ 7,  8,  9, 10, 11, 12, 13],\n",
       "       [14, 15, 16, 17, 18, 19, 20],\n",
       "       [21, 22, 23, 24, 25, 26, 27]])"
      ]
     },
     "execution_count": 109,
     "metadata": {},
     "output_type": "execute_result"
    }
   ],
   "source": [
    "y"
   ]
  },
  {
   "cell_type": "code",
   "execution_count": 110,
   "id": "ce9188ad",
   "metadata": {},
   "outputs": [
    {
     "name": "stdout",
     "output_type": "stream",
     "text": [
      "[[ 0  1  2  3  4  5  6]\n",
      " [ 7  8  9 10 11 12 13]\n",
      " [14 15 16 17 18 19 20]\n",
      " [21 22 23 24 25 26 27]]\n",
      "[[ 1  1  2  3  4  5  6]\n",
      " [ 7  8  9 10 11 12 13]\n",
      " [14 15 16 17 18 19 20]\n",
      " [21 22 23 24 25 26 27]]\n"
     ]
    }
   ],
   "source": [
    "y[0][0]=1\n",
    "print(x)\n",
    "print(y)"
   ]
  },
  {
   "cell_type": "markdown",
   "id": "df085635",
   "metadata": {},
   "source": [
    "### Eye Function in Python"
   ]
  },
  {
   "cell_type": "code",
   "execution_count": 118,
   "id": "fb752823",
   "metadata": {},
   "outputs": [
    {
     "data": {
      "text/plain": [
       "array([[0, 1, 0, 0, 0, 0, 0, 0, 0],\n",
       "       [0, 0, 1, 0, 0, 0, 0, 0, 0],\n",
       "       [0, 0, 0, 1, 0, 0, 0, 0, 0],\n",
       "       [0, 0, 0, 0, 1, 0, 0, 0, 0],\n",
       "       [0, 0, 0, 0, 0, 1, 0, 0, 0]])"
      ]
     },
     "execution_count": 118,
     "metadata": {},
     "output_type": "execute_result"
    }
   ],
   "source": [
    "np.eye(5,9,1,dtype=int)"
   ]
  },
  {
   "cell_type": "markdown",
   "id": "b6049bf6",
   "metadata": {},
   "source": [
    "# Exercise"
   ]
  },
  {
   "cell_type": "code",
   "execution_count": 133,
   "id": "1ac12f64",
   "metadata": {},
   "outputs": [
    {
     "data": {
      "text/plain": [
       "array([ 0,  1,  2,  3,  4,  5,  6,  7,  8,  9, 10, 11, 12, 13, 14, 15, 16,\n",
       "       17, 18, 19, 20])"
      ]
     },
     "execution_count": 133,
     "metadata": {},
     "output_type": "execute_result"
    }
   ],
   "source": [
    "v = np.array(np.arange(21))\n",
    "v"
   ]
  },
  {
   "cell_type": "code",
   "execution_count": 134,
   "id": "72d684bb",
   "metadata": {},
   "outputs": [
    {
     "data": {
      "text/plain": [
       "array([ 1,  3,  5,  7,  9, 11, 13, 15, 17, 19])"
      ]
     },
     "execution_count": 134,
     "metadata": {},
     "output_type": "execute_result"
    }
   ],
   "source": [
    "newArray = v[1::2]\n",
    "newArray"
   ]
  },
  {
   "cell_type": "code",
   "execution_count": 141,
   "id": "981c34a4",
   "metadata": {},
   "outputs": [
    {
     "data": {
      "text/plain": [
       "array([20, 19, 18, 17, 16, 15, 14, 13, 12, 11, 10,  9,  8,  7,  6,  5,  4,\n",
       "        3,  2,  1,  0])"
      ]
     },
     "execution_count": 141,
     "metadata": {},
     "output_type": "execute_result"
    }
   ],
   "source": [
    "backwardNewArray = v[::-1]\n",
    "backwardNewArray"
   ]
  },
  {
   "cell_type": "markdown",
   "id": "8ba31a7b",
   "metadata": {},
   "source": [
    "## Output"
   ]
  },
  {
   "cell_type": "markdown",
   "id": "2afd8a42",
   "metadata": {},
   "source": [
    "2,3,4\n",
    "1,200,3,4,5"
   ]
  },
  {
   "cell_type": "code",
   "execution_count": 139,
   "id": "b10cd916",
   "metadata": {},
   "outputs": [],
   "source": [
    "m = np.arange(25).reshape(5,5)"
   ]
  },
  {
   "cell_type": "code",
   "execution_count": 140,
   "id": "5c2baf94",
   "metadata": {},
   "outputs": [
    {
     "data": {
      "text/plain": [
       "array([[ 0,  1,  2,  3,  4],\n",
       "       [ 5,  6,  7,  8,  9],\n",
       "       [10, 11, 12, 13, 14],\n",
       "       [15, 16, 17, 18, 19],\n",
       "       [20, 21, 22, 23, 24]])"
      ]
     },
     "execution_count": 140,
     "metadata": {},
     "output_type": "execute_result"
    }
   ],
   "source": [
    "m"
   ]
  },
  {
   "cell_type": "code",
   "execution_count": 143,
   "id": "1e015e83",
   "metadata": {},
   "outputs": [],
   "source": [
    "new2DArray = m[::-1]"
   ]
  },
  {
   "cell_type": "code",
   "execution_count": 144,
   "id": "6f750dc0",
   "metadata": {},
   "outputs": [
    {
     "data": {
      "text/plain": [
       "array([[20, 21, 22, 23, 24],\n",
       "       [15, 16, 17, 18, 19],\n",
       "       [10, 11, 12, 13, 14],\n",
       "       [ 5,  6,  7,  8,  9],\n",
       "       [ 0,  1,  2,  3,  4]])"
      ]
     },
     "execution_count": 144,
     "metadata": {},
     "output_type": "execute_result"
    }
   ],
   "source": [
    "new2DArray"
   ]
  },
  {
   "cell_type": "code",
   "execution_count": 145,
   "id": "001bb793",
   "metadata": {},
   "outputs": [],
   "source": [
    "copy2DArray = m.copy()"
   ]
  },
  {
   "cell_type": "code",
   "execution_count": 146,
   "id": "4ce2dc32",
   "metadata": {},
   "outputs": [
    {
     "data": {
      "text/plain": [
       "array([[ 0,  1,  2,  3,  4],\n",
       "       [ 5,  6,  7,  8,  9],\n",
       "       [10, 11, 12, 13, 14],\n",
       "       [15, 16, 17, 18, 19],\n",
       "       [20, 21, 22, 23, 24]])"
      ]
     },
     "execution_count": 146,
     "metadata": {},
     "output_type": "execute_result"
    }
   ],
   "source": [
    "copy2DArray"
   ]
  },
  {
   "cell_type": "code",
   "execution_count": 166,
   "id": "e87006ae",
   "metadata": {},
   "outputs": [],
   "source": [
    "colReverse = copy2DArray[::,::-1]"
   ]
  },
  {
   "cell_type": "code",
   "execution_count": 167,
   "id": "b5d93162",
   "metadata": {},
   "outputs": [
    {
     "data": {
      "text/plain": [
       "array([[ 4,  3,  2,  1,  0],\n",
       "       [ 9,  8,  7,  6,  5],\n",
       "       [14, 13, 12, 11, 10],\n",
       "       [19, 18, 17, 16, 15],\n",
       "       [24, 23, 22, 21, 20]])"
      ]
     },
     "execution_count": 167,
     "metadata": {},
     "output_type": "execute_result"
    }
   ],
   "source": [
    "colReverse"
   ]
  },
  {
   "cell_type": "code",
   "execution_count": 168,
   "id": "034d3963",
   "metadata": {},
   "outputs": [],
   "source": [
    "modifiedNewArray = m[1:-1:,1:-1:]"
   ]
  },
  {
   "cell_type": "code",
   "execution_count": 169,
   "id": "4c50369f",
   "metadata": {},
   "outputs": [
    {
     "data": {
      "text/plain": [
       "array([[ 6,  7,  8],\n",
       "       [11, 12, 13],\n",
       "       [16, 17, 18]])"
      ]
     },
     "execution_count": 169,
     "metadata": {},
     "output_type": "execute_result"
    }
   ],
   "source": [
    "modifiedNewArray"
   ]
  },
  {
   "cell_type": "code",
   "execution_count": 171,
   "id": "b1d8c555",
   "metadata": {},
   "outputs": [
    {
     "name": "stdout",
     "output_type": "stream",
     "text": [
      "C:\\Users\\Saikat\\Downloads\n"
     ]
    }
   ],
   "source": [
    "cd Downloads"
   ]
  },
  {
   "cell_type": "code",
   "execution_count": 174,
   "id": "f9b120ef",
   "metadata": {},
   "outputs": [
    {
     "name": "stdout",
     "output_type": "stream",
     "text": [
      "[['fixed acidity', 'volatile acidity', 'citric acid', 'residual sugar', 'chlorides', 'free sulfur dioxide', 'total sulfur dioxide', 'density', 'pH', 'sulphates', 'alcohol', 'quality'], ['7.4', '0.7', '0', '1.9', '0.076', '11', '34', '0.9978', '3.51', '0.56', '9.4', '5'], ['7.8', '0.88', '0', '2.6', '0.098', '25', '67', '0.9968', '3.2', '0.68', '9.8', '5']]\n"
     ]
    }
   ],
   "source": [
    "import csv\n",
    "import pandas as pd\n",
    "with open('winequality-red.csv','r')as f:\n",
    "    wines = list(csv.reader(f,delimiter=';'))\n",
    "print(wines[:3])"
   ]
  },
  {
   "cell_type": "code",
   "execution_count": null,
   "id": "6d253d68",
   "metadata": {},
   "outputs": [],
   "source": []
  }
 ],
 "metadata": {
  "kernelspec": {
   "display_name": "Python 3 (ipykernel)",
   "language": "python",
   "name": "python3"
  },
  "language_info": {
   "codemirror_mode": {
    "name": "ipython",
    "version": 3
   },
   "file_extension": ".py",
   "mimetype": "text/x-python",
   "name": "python",
   "nbconvert_exporter": "python",
   "pygments_lexer": "ipython3",
   "version": "3.9.13"
  }
 },
 "nbformat": 4,
 "nbformat_minor": 5
}
