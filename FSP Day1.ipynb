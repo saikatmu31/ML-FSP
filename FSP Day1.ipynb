{
 "cells": [
  {
   "cell_type": "markdown",
   "id": "c98a77d6",
   "metadata": {},
   "source": [
    "## Error Handeling"
   ]
  },
  {
   "cell_type": "code",
   "execution_count": 28,
   "id": "53e5b73c",
   "metadata": {},
   "outputs": [
    {
     "name": "stdout",
     "output_type": "stream",
     "text": [
      "The entry is a\n",
      "<class 'ValueError'> Occured\n",
      "Next Entry\n",
      "\n",
      "\n",
      "The entry is 0\n",
      "<class 'ZeroDivisionError'> Occured\n",
      "Next Entry\n",
      "\n",
      "\n",
      "The entry is 2\n",
      "The entry is 4\n",
      "The entry is 5\n",
      "The entry is 0\n",
      "<class 'ZeroDivisionError'> Occured\n",
      "Next Entry\n",
      "\n",
      "\n",
      "The entry is 10\n",
      "the reciprocal of the 10 is 0.1\n",
      "\n",
      "\n"
     ]
    }
   ],
   "source": [
    "import sys\n",
    "randomList = ['a',0,2,4,5,0,10]\n",
    "for items in randomList:\n",
    "    try:\n",
    "        print(\"The entry is\",items)\n",
    "        r=1/int(items)\n",
    "        #break\n",
    "    except Exception as error:\n",
    "        #print(\"Oops\",sys.exc_info()[0],\"occured\")\n",
    "        print(error.__class__,\"Occured\")\n",
    "        print(\"Next Entry\")\n",
    "        print()\n",
    "        print()\n",
    "print(\"the reciprocal of the\", items ,\"is\",r)\n",
    "print()\n",
    "print()\n",
    "    "
   ]
  },
  {
   "cell_type": "code",
   "execution_count": 29,
   "id": "a8ed7d20",
   "metadata": {},
   "outputs": [
    {
     "name": "stdout",
     "output_type": "stream",
     "text": [
      "The entry is a\n",
      "Oops <class 'ValueError'> occured\n",
      "Next Entry\n",
      "Value Error Exception\n",
      "\n",
      "the reciprocal of the a is 0.1\n",
      "\n",
      "\n",
      "The entry is 0\n",
      "Oops <class 'ZeroDivisionError'> occured\n",
      "Next Entry\n",
      "Type and ZerDivision Error Block\n",
      "\n",
      "the reciprocal of the 0 is 0.1\n",
      "\n",
      "\n",
      "The entry is 2\n",
      "the reciprocal of the 2 is 0.5\n",
      "\n",
      "\n"
     ]
    }
   ],
   "source": [
    "import sys\n",
    "randomList = ['a',0,2]\n",
    "for items in randomList:\n",
    "    try:\n",
    "        print(\"The entry is\",items)\n",
    "        r=1/int(items)\n",
    "        #break\n",
    "    except (TypeError,ZeroDivisionError):\n",
    "        print(\"Oops\",sys.exc_info()[0],\"occured\")\n",
    "        #print(error.__class__,\"Occured\")\n",
    "        print(\"Next Entry\")\n",
    "        print(\"Type and ZerDivision Error Block\")\n",
    "        print()\n",
    "        pass\n",
    "    except ValueError:\n",
    "        print(\"Oops\",sys.exc_info()[0],\"occured\")\n",
    "        #print(error.__class__,\"Occured\")\n",
    "        print(\"Next Entry\")\n",
    "        print(\"Value Error Exception\")\n",
    "        print()\n",
    "        pass\n",
    "    \n",
    "    except:\n",
    "        print(\"Oops\",sys.exc_info()[0],\"occured\")\n",
    "        #print(error.__class__,\"Occured\")\n",
    "        print(\"Next Entry\")\n",
    "        print(\"General Except block\")\n",
    "        print()\n",
    "    print(\"the reciprocal of the\", items ,\"is\",r)\n",
    "    print()\n",
    "    print()\n",
    "    "
   ]
  },
  {
   "cell_type": "code",
   "execution_count": 30,
   "id": "7233085d",
   "metadata": {
    "scrolled": true
   },
   "outputs": [
    {
     "name": "stdout",
     "output_type": "stream",
     "text": [
      "The entry is a\n",
      "Oops <class 'ValueError'> occured\n",
      "Next Entry\n",
      "Value Error Exception\n",
      "\n",
      "the reciprocal of the a is 0.5\n",
      "\n",
      "\n",
      "The entry is 0\n",
      "Oops <class 'ZeroDivisionError'> occured\n",
      "Next Entry\n",
      "Type and ZerDivision Error Block\n",
      "\n",
      "the reciprocal of the 0 is 0.5\n",
      "\n",
      "\n",
      "The entry is 2\n",
      "the reciprocal of the 2 is 0.5\n",
      "\n",
      "\n",
      "The entry is a\n",
      "Oops <class 'ValueError'> occured\n",
      "Next Entry\n",
      "Value Error Exception\n",
      "\n",
      "the reciprocal of the a is 0.5\n",
      "\n",
      "\n",
      "The entry is b\n",
      "Oops <class 'ValueError'> occured\n",
      "Next Entry\n",
      "Value Error Exception\n",
      "\n",
      "the reciprocal of the b is 0.5\n",
      "\n",
      "\n"
     ]
    }
   ],
   "source": [
    "import sys\n",
    "randomList = ['a',0,2,'a','b']\n",
    "for items in randomList:\n",
    "    try:\n",
    "        print(\"The entry is\",items)\n",
    "        r=1/int(items)\n",
    "        #break\n",
    "    except ValueError:\n",
    "        print(\"Oops\",sys.exc_info()[0],\"occured\")\n",
    "        #print(error.__class__,\"Occured\")\n",
    "        print(\"Next Entry\")\n",
    "        print(\"Value Error Exception\")\n",
    "        print()\n",
    "        pass\n",
    "    except (TypeError,ZeroDivisionError):\n",
    "        print(\"Oops\",sys.exc_info()[0],\"occured\")\n",
    "        #print(error.__class__,\"Occured\")\n",
    "        print(\"Next Entry\")\n",
    "        print(\"Type and ZerDivision Error Block\")\n",
    "        print()\n",
    "        pass\n",
    "    except:\n",
    "        print(\"Oops\",sys.exc_info()[0],\"occured\")\n",
    "        #print(error.__class__,\"Occured\")\n",
    "        print(\"Next Entry\")\n",
    "        print(\"General Except block\")\n",
    "        print()\n",
    "    print(\"the reciprocal of the\", items ,\"is\",r)\n",
    "    print()\n",
    "    print()\n",
    "    "
   ]
  },
  {
   "cell_type": "code",
   "execution_count": 31,
   "id": "674c746f",
   "metadata": {},
   "outputs": [
    {
     "name": "stdout",
     "output_type": "stream",
     "text": [
      "Enter a Number : 10\n",
      "Reciprocal of 10 is 0.1\n"
     ]
    }
   ],
   "source": [
    "try:\n",
    "    num = int(input(\"Enter a Number : \"))\n",
    "    assert num%2==0\n",
    "    # READ ABOUT ASSERT MORE\n",
    "except:\n",
    "    print(\"Not an even Number!\")\n",
    "else:\n",
    "    reciprocal = 1/num\n",
    "    print(\"Reciprocal of\",num,\"is\",reciprocal)"
   ]
  },
  {
   "cell_type": "code",
   "execution_count": 32,
   "id": "9d3cbaa1",
   "metadata": {},
   "outputs": [],
   "source": [
    "class Error(Exception):\n",
    "    \"\"\"Base Class for Other Exception\"\"\"\n",
    "    pass\n",
    "class ValuetoSmallError(Error):\n",
    "    \"\"\"Raised When the input value is too small\"\"\"\n",
    "    pass\n",
    "class ValueTooLargeError(Error):\n",
    "    \"\"\"Raised when the input value is too large\"\"\"\n",
    "    pass"
   ]
  },
  {
   "cell_type": "code",
   "execution_count": 33,
   "id": "e4fb9b88",
   "metadata": {},
   "outputs": [],
   "source": [
    "number =10"
   ]
  },
  {
   "cell_type": "code",
   "execution_count": 34,
   "id": "7cf90023",
   "metadata": {},
   "outputs": [
    {
     "name": "stdout",
     "output_type": "stream",
     "text": [
      "Enter a Number10\n",
      "Congrats! You Guessed it Right\n"
     ]
    }
   ],
   "source": [
    "while True:\n",
    "    try:\n",
    "        i_num = int(input(\"Enter a Number\"))\n",
    "        if i_num<number:\n",
    "            raise ValuetoSmallError\n",
    "        elif i_num>number:\n",
    "            raise ValueTooLargeError\n",
    "        break\n",
    "    except ValuetoSmallError:\n",
    "        print(\"The Value is too Small, try Again!\")\n",
    "        print()\n",
    "    except ValueTooLargeError:\n",
    "        print(\"This is too Large,try again!\")\n",
    "        print()\n",
    "print(\"Congrats! You Guessed it Right\")\n",
    "            "
   ]
  },
  {
   "cell_type": "markdown",
   "id": "575d8025",
   "metadata": {},
   "source": [
    "# Task1: Capitalize Lastname"
   ]
  },
  {
   "cell_type": "code",
   "execution_count": 37,
   "id": "fb7c5003",
   "metadata": {},
   "outputs": [
    {
     "name": "stdout",
     "output_type": "stream",
     "text": [
      "Enter your Name : saikat mukherjee\n",
      "Saikat MUKHERJEE\n"
     ]
    }
   ],
   "source": [
    "import sys\n",
    "def capitalize_last_name(name):\n",
    "    name_arr = name.split(\" \")\n",
    "    #print(name_arr)\n",
    "    try:\n",
    "        if len(name_arr) != 2:\n",
    "            raise ValueError\n",
    "        elif isinstance(name,str)==False:\n",
    "            raise TypeError\n",
    "        firstName = name_arr[0].capitalize()\n",
    "        lastname = name_arr[1].upper()\n",
    "        #print(firstName.capitalize(),lastname.upper())\n",
    "        return firstName,lastname\n",
    "    except ValueError:\n",
    "        print(\"Value Error Invoked\")\n",
    "    except TypeError:\n",
    "        print(\"Type Error Invoked\")\n",
    "    except AttributeError:\n",
    "        print(\"Attribute Error Invoked\")\n",
    "    except:\n",
    "        print(\"Oops\", sys.exc_info()[0], \"occured\")\n",
    "        # print(error.__class__,\"Occured\")\n",
    "        print(\"Next Entry\")\n",
    "        print(\"General Except block\")\n",
    "        print()\n",
    "\n",
    "\n",
    "name = input(\"Enter your Name : \")\n",
    "res = capitalize_last_name(name)\n",
    "print(res[0],res[1])"
   ]
  },
  {
   "cell_type": "code",
   "execution_count": 38,
   "id": "81011e82",
   "metadata": {},
   "outputs": [],
   "source": [
    "myList = [1,2,3,4,5,6,7,8,9,12]"
   ]
  },
  {
   "cell_type": "code",
   "execution_count": 39,
   "id": "4fda5fe7",
   "metadata": {},
   "outputs": [],
   "source": [
    "newList = list(filter(lambda x:(x%2==0),myList))"
   ]
  },
  {
   "cell_type": "code",
   "execution_count": 40,
   "id": "48115374",
   "metadata": {},
   "outputs": [
    {
     "data": {
      "text/plain": [
       "[2, 4, 6, 8, 12]"
      ]
     },
     "execution_count": 40,
     "metadata": {},
     "output_type": "execute_result"
    }
   ],
   "source": [
    "newList\n"
   ]
  },
  {
   "cell_type": "code",
   "execution_count": 64,
   "id": "d43b3952",
   "metadata": {},
   "outputs": [],
   "source": [
    "a = filter(lambda x:(x%2==0),myList)"
   ]
  },
  {
   "cell_type": "code",
   "execution_count": 65,
   "id": "90c71316",
   "metadata": {},
   "outputs": [
    {
     "data": {
      "text/plain": [
       "[2, 4, 6, 8, 12]"
      ]
     },
     "execution_count": 65,
     "metadata": {},
     "output_type": "execute_result"
    }
   ],
   "source": [
    "list(a)"
   ]
  },
  {
   "cell_type": "code",
   "execution_count": 69,
   "id": "5d9c6f23",
   "metadata": {},
   "outputs": [],
   "source": [
    "newListtwo = list(map(lambda x:x*2+3,myList))"
   ]
  },
  {
   "cell_type": "code",
   "execution_count": 80,
   "id": "e864b81a",
   "metadata": {},
   "outputs": [
    {
     "data": {
      "text/plain": [
       "[5, 7, 9, 11, 13, 15, 17, 19, 21, 27]"
      ]
     },
     "execution_count": 80,
     "metadata": {},
     "output_type": "execute_result"
    }
   ],
   "source": [
    "newListtwo"
   ]
  },
  {
   "cell_type": "markdown",
   "id": "7fe94885",
   "metadata": {},
   "source": [
    "## List Comprehention"
   ]
  },
  {
   "cell_type": "code",
   "execution_count": 82,
   "id": "0f872972",
   "metadata": {},
   "outputs": [],
   "source": [
    "nums = [1,2,3,4,5,6,7,8,9,10]\n",
    "odd_nums = [number for number in nums if number%2!=0 ]"
   ]
  },
  {
   "cell_type": "code",
   "execution_count": 83,
   "id": "b129bb88",
   "metadata": {},
   "outputs": [
    {
     "data": {
      "text/plain": [
       "[1, 3, 5, 7, 9]"
      ]
     },
     "execution_count": 83,
     "metadata": {},
     "output_type": "execute_result"
    }
   ],
   "source": [
    "odd_nums"
   ]
  },
  {
   "cell_type": "code",
   "execution_count": 102,
   "id": "c250dbda",
   "metadata": {},
   "outputs": [],
   "source": [
    "mynewList = list(filter(lambda x:x%2==0,myList))"
   ]
  },
  {
   "cell_type": "code",
   "execution_count": 103,
   "id": "98fac7a6",
   "metadata": {},
   "outputs": [
    {
     "data": {
      "text/plain": [
       "[2, 4, 6, 8, 12]"
      ]
     },
     "execution_count": 103,
     "metadata": {},
     "output_type": "execute_result"
    }
   ],
   "source": [
    "mynewList"
   ]
  },
  {
   "cell_type": "code",
   "execution_count": 96,
   "id": "7de3742d",
   "metadata": {},
   "outputs": [],
   "source": [
    "#mynewList = list(map(lambda x:x%2==0,myList))"
   ]
  },
  {
   "cell_type": "code",
   "execution_count": 97,
   "id": "f91375b4",
   "metadata": {},
   "outputs": [],
   "source": [
    "#mynewList"
   ]
  },
  {
   "cell_type": "code",
   "execution_count": 104,
   "id": "00672510",
   "metadata": {},
   "outputs": [],
   "source": [
    "from functools import reduce\n",
    "myreducedList = reduce(lambda x,y:x+y,mynewList)"
   ]
  },
  {
   "cell_type": "code",
   "execution_count": 105,
   "id": "41904d79",
   "metadata": {},
   "outputs": [
    {
     "data": {
      "text/plain": [
       "32"
      ]
     },
     "execution_count": 105,
     "metadata": {},
     "output_type": "execute_result"
    }
   ],
   "source": [
    "myreducedList"
   ]
  },
  {
   "cell_type": "markdown",
   "id": "5cd1a67a",
   "metadata": {},
   "source": [
    "## Variable Length Keyword Argument"
   ]
  },
  {
   "cell_type": "code",
   "execution_count": 111,
   "id": "845679b2",
   "metadata": {},
   "outputs": [
    {
     "ename": "SyntaxError",
     "evalue": "invalid syntax (418042461.py, line 6)",
     "output_type": "error",
     "traceback": [
      "\u001b[1;36m  File \u001b[1;32m\"C:\\Users\\Saikat\\AppData\\Local\\Temp\\ipykernel_11588\\418042461.py\"\u001b[1;36m, line \u001b[1;32m6\u001b[0m\n\u001b[1;33m    func(**{'a'=1,'b'=2})\u001b[0m\n\u001b[1;37m               ^\u001b[0m\n\u001b[1;31mSyntaxError\u001b[0m\u001b[1;31m:\u001b[0m invalid syntax\n"
     ]
    }
   ],
   "source": [
    "def func(**kwargs):\n",
    "    print(kwargs)\n",
    "    #All Calls are Equivalent\n",
    "    #they print \n",
    "    func(a=1,b=2)\n",
    "    func(**{'a'=1,'b'=2})\n",
    "    func(**dict{a=1,b=2})   "
   ]
  },
  {
   "cell_type": "code",
   "execution_count": null,
   "id": "b47e5460",
   "metadata": {},
   "outputs": [],
   "source": []
  }
 ],
 "metadata": {
  "kernelspec": {
   "display_name": "Python 3 (ipykernel)",
   "language": "python",
   "name": "python3"
  },
  "language_info": {
   "codemirror_mode": {
    "name": "ipython",
    "version": 3
   },
   "file_extension": ".py",
   "mimetype": "text/x-python",
   "name": "python",
   "nbconvert_exporter": "python",
   "pygments_lexer": "ipython3",
   "version": "3.9.13"
  }
 },
 "nbformat": 4,
 "nbformat_minor": 5
}
