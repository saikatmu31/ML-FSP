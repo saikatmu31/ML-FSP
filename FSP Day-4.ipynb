{
 "cells": [
  {
   "cell_type": "markdown",
   "id": "d068d16e",
   "metadata": {},
   "source": [
    "# Correlation"
   ]
  },
  {
   "cell_type": "code",
   "execution_count": 39,
   "id": "ea276196",
   "metadata": {},
   "outputs": [
    {
     "name": "stdout",
     "output_type": "stream",
     "text": [
      "[WinError 2] The system cannot find the file specified: 'Downloads/'\n",
      "C:\\Users\\Saikat\\Downloads\n"
     ]
    }
   ],
   "source": [
    "cd Downloads/"
   ]
  },
  {
   "cell_type": "code",
   "execution_count": 40,
   "id": "b4d2229d",
   "metadata": {},
   "outputs": [],
   "source": [
    "from warnings import simplefilter\n",
    "simplefilter(action='ignore',category=FutureWarning)"
   ]
  },
  {
   "cell_type": "code",
   "execution_count": 41,
   "id": "97a10b8a",
   "metadata": {},
   "outputs": [],
   "source": [
    "import numpy as np\n",
    "import pandas as pd\n",
    "import matplotlib.pyplot as plt\n",
    "from sklearn import linear_model\n",
    "from sklearn.linear_model import LinearRegression\n",
    "from sklearn.model_selection import train_test_split,cross_val_score\n",
    "import seaborn as sns\n",
    "from sklearn.metrics import mean_squared_error,mean_absolute_error\n"
   ]
  },
  {
   "cell_type": "code",
   "execution_count": 42,
   "id": "102aafa1",
   "metadata": {},
   "outputs": [],
   "source": [
    "df = pd.read_csv('Advertising.csv')"
   ]
  },
  {
   "cell_type": "code",
   "execution_count": 43,
   "id": "cf6df2a0",
   "metadata": {},
   "outputs": [
    {
     "data": {
      "text/html": [
       "<div>\n",
       "<style scoped>\n",
       "    .dataframe tbody tr th:only-of-type {\n",
       "        vertical-align: middle;\n",
       "    }\n",
       "\n",
       "    .dataframe tbody tr th {\n",
       "        vertical-align: top;\n",
       "    }\n",
       "\n",
       "    .dataframe thead th {\n",
       "        text-align: right;\n",
       "    }\n",
       "</style>\n",
       "<table border=\"1\" class=\"dataframe\">\n",
       "  <thead>\n",
       "    <tr style=\"text-align: right;\">\n",
       "      <th></th>\n",
       "      <th>Unnamed: 0</th>\n",
       "      <th>TV</th>\n",
       "      <th>Radio</th>\n",
       "      <th>Newspaper</th>\n",
       "      <th>Sales</th>\n",
       "    </tr>\n",
       "  </thead>\n",
       "  <tbody>\n",
       "    <tr>\n",
       "      <th>0</th>\n",
       "      <td>1</td>\n",
       "      <td>230.1</td>\n",
       "      <td>37.8</td>\n",
       "      <td>69.2</td>\n",
       "      <td>22.1</td>\n",
       "    </tr>\n",
       "    <tr>\n",
       "      <th>1</th>\n",
       "      <td>2</td>\n",
       "      <td>44.5</td>\n",
       "      <td>39.3</td>\n",
       "      <td>45.1</td>\n",
       "      <td>10.4</td>\n",
       "    </tr>\n",
       "    <tr>\n",
       "      <th>2</th>\n",
       "      <td>3</td>\n",
       "      <td>17.2</td>\n",
       "      <td>45.9</td>\n",
       "      <td>69.3</td>\n",
       "      <td>9.3</td>\n",
       "    </tr>\n",
       "    <tr>\n",
       "      <th>3</th>\n",
       "      <td>4</td>\n",
       "      <td>151.5</td>\n",
       "      <td>41.3</td>\n",
       "      <td>58.5</td>\n",
       "      <td>18.5</td>\n",
       "    </tr>\n",
       "    <tr>\n",
       "      <th>4</th>\n",
       "      <td>5</td>\n",
       "      <td>180.8</td>\n",
       "      <td>10.8</td>\n",
       "      <td>58.4</td>\n",
       "      <td>12.9</td>\n",
       "    </tr>\n",
       "  </tbody>\n",
       "</table>\n",
       "</div>"
      ],
      "text/plain": [
       "   Unnamed: 0     TV  Radio  Newspaper  Sales\n",
       "0           1  230.1   37.8       69.2   22.1\n",
       "1           2   44.5   39.3       45.1   10.4\n",
       "2           3   17.2   45.9       69.3    9.3\n",
       "3           4  151.5   41.3       58.5   18.5\n",
       "4           5  180.8   10.8       58.4   12.9"
      ]
     },
     "execution_count": 43,
     "metadata": {},
     "output_type": "execute_result"
    }
   ],
   "source": [
    "df.head()"
   ]
  },
  {
   "cell_type": "code",
   "execution_count": 44,
   "id": "c4006b6d",
   "metadata": {},
   "outputs": [],
   "source": [
    "X = df[[\"TV\"]]\n",
    "Y=df[[\"Sales\"]]"
   ]
  },
  {
   "cell_type": "code",
   "execution_count": 45,
   "id": "6f6d0d7e",
   "metadata": {},
   "outputs": [],
   "source": [
    "reg_model = LinearRegression().fit(X,Y)\n",
    "c = reg_model.intercept_[0]\n",
    "M=reg_model.coef_[0][0]"
   ]
  },
  {
   "cell_type": "code",
   "execution_count": 46,
   "id": "abad2d2c",
   "metadata": {},
   "outputs": [
    {
     "name": "stdout",
     "output_type": "stream",
     "text": [
      "Linear Regression parameters at : c = 7.032593549127693, M=0.047536640433019764\n"
     ]
    }
   ],
   "source": [
    "print(\"Linear Regression parameters at : c = {0}, M={1}\".format(c,M))"
   ]
  },
  {
   "cell_type": "code",
   "execution_count": 47,
   "id": "453ad249",
   "metadata": {},
   "outputs": [
    {
     "data": {
      "text/plain": [
       "14.163089614080658"
      ]
     },
     "execution_count": 47,
     "metadata": {},
     "output_type": "execute_result"
    }
   ],
   "source": [
    "#y = mx +c\n",
    "M*150 + c"
   ]
  },
  {
   "cell_type": "code",
   "execution_count": 48,
   "id": "51806267",
   "metadata": {},
   "outputs": [],
   "source": [
    "newData = [150]\n",
    "newData = pd.DataFrame(newData,columns=[\"TV\"])"
   ]
  },
  {
   "cell_type": "code",
   "execution_count": 49,
   "id": "c89ecd97",
   "metadata": {},
   "outputs": [
    {
     "data": {
      "text/html": [
       "<div>\n",
       "<style scoped>\n",
       "    .dataframe tbody tr th:only-of-type {\n",
       "        vertical-align: middle;\n",
       "    }\n",
       "\n",
       "    .dataframe tbody tr th {\n",
       "        vertical-align: top;\n",
       "    }\n",
       "\n",
       "    .dataframe thead th {\n",
       "        text-align: right;\n",
       "    }\n",
       "</style>\n",
       "<table border=\"1\" class=\"dataframe\">\n",
       "  <thead>\n",
       "    <tr style=\"text-align: right;\">\n",
       "      <th></th>\n",
       "      <th>TV</th>\n",
       "    </tr>\n",
       "  </thead>\n",
       "  <tbody>\n",
       "    <tr>\n",
       "      <th>0</th>\n",
       "      <td>150</td>\n",
       "    </tr>\n",
       "  </tbody>\n",
       "</table>\n",
       "</div>"
      ],
      "text/plain": [
       "    TV\n",
       "0  150"
      ]
     },
     "execution_count": 49,
     "metadata": {},
     "output_type": "execute_result"
    }
   ],
   "source": [
    "newData"
   ]
  },
  {
   "cell_type": "code",
   "execution_count": 50,
   "id": "82f4d3ab",
   "metadata": {},
   "outputs": [
    {
     "data": {
      "text/plain": [
       "array([[14.16308961]])"
      ]
     },
     "execution_count": 50,
     "metadata": {},
     "output_type": "execute_result"
    }
   ],
   "source": [
    "reg_model.predict(newData)\n"
   ]
  },
  {
   "cell_type": "code",
   "execution_count": 51,
   "id": "aacd4cea",
   "metadata": {},
   "outputs": [
    {
     "data": {
      "image/png": "[encoded data removed]",
      "text/plain": [
       "<Figure size 640x480 with 1 Axes>"
      ]
     },
     "metadata": {},
     "output_type": "display_data"
    }
   ],
   "source": [
    "g = sns.regplot(x =X ,y=Y,scatter_kws={'color':'b','s':9},\n",
    "               ci=False,color='r')\n",
    "g.set_title(f\"Model Equation: Sales = +{round(reg_model.intercept_[0],2)}+ TV * {round(reg_model.coef_[0][0],2)}\")\n",
    "g.set_ylabel(\"Sales\")\n",
    "g.set_xlabel(\"TV\")\n",
    "plt.xlim(-10,310)\n",
    "plt.ylim(bottom = 0)\n",
    "plt.show()"
   ]
  },
  {
   "cell_type": "code",
   "execution_count": 52,
   "id": "989da8dc",
   "metadata": {},
   "outputs": [],
   "source": [
    "df = pd.read_csv(\"Mens_height_weight.csv\")"
   ]
  },
  {
   "cell_type": "code",
   "execution_count": 53,
   "id": "790c6ec0",
   "metadata": {},
   "outputs": [
    {
     "data": {
      "text/html": [
       "<div>\n",
       "<style scoped>\n",
       "    .dataframe tbody tr th:only-of-type {\n",
       "        vertical-align: middle;\n",
       "    }\n",
       "\n",
       "    .dataframe tbody tr th {\n",
       "        vertical-align: top;\n",
       "    }\n",
       "\n",
       "    .dataframe thead th {\n",
       "        text-align: right;\n",
       "    }\n",
       "</style>\n",
       "<table border=\"1\" class=\"dataframe\">\n",
       "  <thead>\n",
       "    <tr style=\"text-align: right;\">\n",
       "      <th></th>\n",
       "      <th>Height</th>\n",
       "      <th>Weight</th>\n",
       "    </tr>\n",
       "  </thead>\n",
       "  <tbody>\n",
       "    <tr>\n",
       "      <th>0</th>\n",
       "      <td>179</td>\n",
       "      <td>84</td>\n",
       "    </tr>\n",
       "    <tr>\n",
       "      <th>1</th>\n",
       "      <td>177</td>\n",
       "      <td>83</td>\n",
       "    </tr>\n",
       "    <tr>\n",
       "      <th>2</th>\n",
       "      <td>164</td>\n",
       "      <td>62</td>\n",
       "    </tr>\n",
       "    <tr>\n",
       "      <th>3</th>\n",
       "      <td>181</td>\n",
       "      <td>90</td>\n",
       "    </tr>\n",
       "    <tr>\n",
       "      <th>4</th>\n",
       "      <td>186</td>\n",
       "      <td>91</td>\n",
       "    </tr>\n",
       "  </tbody>\n",
       "</table>\n",
       "</div>"
      ],
      "text/plain": [
       "   Height  Weight\n",
       "0     179      84\n",
       "1     177      83\n",
       "2     164      62\n",
       "3     181      90\n",
       "4     186      91"
      ]
     },
     "execution_count": 53,
     "metadata": {},
     "output_type": "execute_result"
    }
   ],
   "source": [
    "df.head()"
   ]
  },
  {
   "cell_type": "code",
   "execution_count": 54,
   "id": "03330b9d",
   "metadata": {},
   "outputs": [],
   "source": [
    "indipendentVar = df[[\"Height\"]]\n",
    "dependentVar = df[[\"Weight\"]]"
   ]
  },
  {
   "cell_type": "code",
   "execution_count": 55,
   "id": "a9ad8018",
   "metadata": {},
   "outputs": [],
   "source": [
    "reg_model = LinearRegression().fit(indipendentVar,dependentVar)\n",
    "c = reg_model.intercept_[0]\n",
    "M=reg_model.coef_[0][0]"
   ]
  },
  {
   "cell_type": "code",
   "execution_count": 58,
   "id": "f0be6557",
   "metadata": {},
   "outputs": [
    {
     "name": "stdout",
     "output_type": "stream",
     "text": [
      "Linear Regression parameters at : c = -99.2772096062735, M=1.000921418068943\n"
     ]
    }
   ],
   "source": [
    "print(\"Linear Regression parameters at : c = {0}, M={1}\".format(c,M))"
   ]
  },
  {
   "cell_type": "code",
   "execution_count": 59,
   "id": "eaa31189",
   "metadata": {},
   "outputs": [
    {
     "data": {
      "text/plain": [
       "80.88864564613623"
      ]
     },
     "execution_count": 59,
     "metadata": {},
     "output_type": "execute_result"
    }
   ],
   "source": [
    "M*180 + c"
   ]
  },
  {
   "cell_type": "code",
   "execution_count": 60,
   "id": "6f4698b0",
   "metadata": {},
   "outputs": [],
   "source": [
    "newData = [180,182]\n",
    "newData = pd.DataFrame(newData,columns=[\"Weight\"])"
   ]
  },
  {
   "cell_type": "code",
   "execution_count": 61,
   "id": "c2ef8771",
   "metadata": {},
   "outputs": [
    {
     "data": {
      "text/plain": [
       "array([[80.88864565],\n",
       "       [82.89048848]])"
      ]
     },
     "execution_count": 61,
     "metadata": {},
     "output_type": "execute_result"
    }
   ],
   "source": [
    "reg_model.predict(newData)"
   ]
  },
  {
   "cell_type": "code",
   "execution_count": 62,
   "id": "fba82327",
   "metadata": {},
   "outputs": [
    {
     "data": {
      "image/png": "[encoded data removed]",
      "text/plain": [
       "<Figure size 640x480 with 1 Axes>"
      ]
     },
     "metadata": {},
     "output_type": "display_data"
    }
   ],
   "source": [
    "g = sns.regplot(x =indipendentVar ,y=dependentVar,scatter_kws={'color':'b','s':9},\n",
    "               ci=False,color='r')\n",
    "g.set_title(f\"Model Equation: Sales = +{round(reg_model.intercept_[0],2)}+ TV * {round(reg_model.coef_[0][0],2)}\")\n",
    "g.set_ylabel(\"Sales\")\n",
    "g.set_xlabel(\"TV\")\n",
    "plt.xlim(140,200)\n",
    "plt.ylim(40,110)\n",
    "plt.show()"
   ]
  },
  {
   "cell_type": "code",
   "execution_count": null,
   "id": "5153b3f0",
   "metadata": {},
   "outputs": [],
   "source": [
    "#Generate Correlation Matrix\n",
    "df.corr()"
   ]
  },
  {
   "cell_type": "code",
   "execution_count": null,
   "id": "322ed682",
   "metadata": {},
   "outputs": [],
   "source": [
    "df.Weight.shape"
   ]
  },
  {
   "cell_type": "code",
   "execution_count": null,
   "id": "c2dc4aca",
   "metadata": {},
   "outputs": [],
   "source": [
    "df.Height[:,np.newaxis]"
   ]
  },
  {
   "cell_type": "code",
   "execution_count": null,
   "id": "004c501c",
   "metadata": {},
   "outputs": [],
   "source": [
    "df.columns"
   ]
  },
  {
   "cell_type": "code",
   "execution_count": null,
   "id": "0e98cbec",
   "metadata": {},
   "outputs": [],
   "source": [
    "lm = linear_model.LinearRegression()\n",
    "lm.fit(X = df.Height[:,np.newaxis],y=df.Weight)\n",
    "print(\"Intercept is \"+str(lm.intercept_))\n",
    "print(\"Coefficient value of the Height is \"+str(lm.coef_))\n",
    "\n"
   ]
  },
  {
   "cell_type": "code",
   "execution_count": null,
   "id": "819fcf18",
   "metadata": {},
   "outputs": [],
   "source": [
    "flg,ax = plt.subplots(nrows=1,ncols=1)\n",
    "ax.scatter(x=df.Height,y=df.Weight)\n",
    "\n",
    "ax.plot(df.Height,lm.predict(X=df.Height[:,np.newaxis]),color = 'red')\n",
    "ax.set_xlabel('Height')\n",
    "ax.set_ylabel('Weight')\n",
    "\n",
    "plt.show()"
   ]
  },
  {
   "cell_type": "code",
   "execution_count": null,
   "id": "0a7872c2",
   "metadata": {},
   "outputs": [],
   "source": [
    "basketballdf = pd.read_csv('basketball.csv')"
   ]
  },
  {
   "cell_type": "code",
   "execution_count": null,
   "id": "cd7bcafd",
   "metadata": {},
   "outputs": [],
   "source": [
    "basketballdf.head()"
   ]
  },
  {
   "cell_type": "code",
   "execution_count": null,
   "id": "a4319d1a",
   "metadata": {},
   "outputs": [],
   "source": [
    "basketballdf.describe()"
   ]
  },
  {
   "cell_type": "code",
   "execution_count": null,
   "id": "8c764230",
   "metadata": {},
   "outputs": [],
   "source": [
    "df_corr = basketballdf.corr()"
   ]
  },
  {
   "cell_type": "code",
   "execution_count": null,
   "id": "d194afeb",
   "metadata": {},
   "outputs": [],
   "source": [
    "df_corr"
   ]
  },
  {
   "cell_type": "code",
   "execution_count": null,
   "id": "cec6b79f",
   "metadata": {},
   "outputs": [],
   "source": [
    "flg,ax = plt.subplots(nrows=1,ncols=1)\n",
    "ax.scatter(x=basketballdf.height,y=basketballdf.avg_points_scored)\n",
    "\n",
    "plt.show()"
   ]
  },
  {
   "cell_type": "code",
   "execution_count": null,
   "id": "0dbdfff3",
   "metadata": {},
   "outputs": [],
   "source": [
    "flg,ax = plt.subplots(nrows=1,ncols=1)\n",
    "ax.scatter(x=basketballdf.weight,y=basketballdf.avg_points_scored)\n",
    "\n",
    "plt.show()"
   ]
  },
  {
   "cell_type": "code",
   "execution_count": null,
   "id": "ce2c0f2b",
   "metadata": {},
   "outputs": [],
   "source": [
    "flg,ax = plt.subplots(nrows=1,ncols=1)\n",
    "ax.scatter(x=basketballdf.success_field_goals,y=basketballdf.avg_points_scored)\n",
    "\n",
    "plt.show()"
   ]
  },
  {
   "cell_type": "code",
   "execution_count": null,
   "id": "d99fba1c",
   "metadata": {},
   "outputs": [],
   "source": [
    "flg,ax = plt.subplots(nrows=1,ncols=1)\n",
    "ax.scatter(x=basketballdf.success_free_throws,y=basketballdf.avg_points_scored)\n",
    "ax.set_xlabel(\"Success Free Throws\")\n",
    "ax.set_ylabel(\"Average Point Scored\")\n",
    "plt.show()"
   ]
  },
  {
   "cell_type": "code",
   "execution_count": null,
   "id": "c6b1104b",
   "metadata": {},
   "outputs": [],
   "source": [
    "X_columns = basketballdf.columns[:-1]\n",
    "print(X_columns)\n",
    "for i in X_columns:\n",
    "    flg,ax = plt.subplots(nrows=1,ncols=1)\n",
    "    ax.scatter(x=basketballdf[i],y=basketballdf.avg_points_scored)\n",
    "    ax.set_xlabel(i)\n",
    "    ax.set_ylabel(\"Average Point Scored\")\n",
    "    plt.show()\n",
    "    "
   ]
  },
  {
   "cell_type": "code",
   "execution_count": null,
   "id": "9ccf4ce4",
   "metadata": {},
   "outputs": [],
   "source": [
    "from sklearn import model_selection,feature_selection,preprocessing\n",
    "import statsmodels.api as sm\n",
    "from statsmodels.tools.eval_measures import mse\n",
    "from statsmodels.tools.tools import add_constant\n",
    "from sklearn.metrics import mean_squared_error\n"
   ]
  },
  {
   "cell_type": "code",
   "execution_count": null,
   "id": "62d76250",
   "metadata": {},
   "outputs": [],
   "source": [
    "X = basketballdf.values.copy()\n",
    "X_train,X_valid,y_train,y_valid = model_selection.train_test_split(X[:,:-1],X[:,-1],train_size=0.80)"
   ]
  },
  {
   "cell_type": "code",
   "execution_count": null,
   "id": "717c9028",
   "metadata": {},
   "outputs": [],
   "source": [
    "X_train.shape"
   ]
  },
  {
   "cell_type": "code",
   "execution_count": null,
   "id": "321f3b49",
   "metadata": {},
   "outputs": [],
   "source": [
    "y_train.shape"
   ]
  },
  {
   "cell_type": "code",
   "execution_count": null,
   "id": "fdc2ac4c",
   "metadata": {},
   "outputs": [],
   "source": [
    "result = sm.OLS(endog=y_train,exog=add_constant(data=X_train)).fit()\n",
    "result.summary()"
   ]
  },
  {
   "cell_type": "code",
   "execution_count": null,
   "id": "6017fa0f",
   "metadata": {},
   "outputs": [],
   "source": []
  },
  {
   "cell_type": "code",
   "execution_count": null,
   "id": "4ed71076",
   "metadata": {},
   "outputs": [],
   "source": []
  },
  {
   "cell_type": "code",
   "execution_count": null,
   "id": "b2e984f5",
   "metadata": {},
   "outputs": [],
   "source": []
  },
  {
   "cell_type": "code",
   "execution_count": null,
   "id": "0dc3222b",
   "metadata": {},
   "outputs": [],
   "source": []
  },
  {
   "cell_type": "code",
   "execution_count": null,
   "id": "7e9f9974",
   "metadata": {},
   "outputs": [],
   "source": []
  },
  {
   "cell_type": "code",
   "execution_count": null,
   "id": "af01fe14",
   "metadata": {},
   "outputs": [],
   "source": []
  },
  {
   "cell_type": "code",
   "execution_count": null,
   "id": "b310b463",
   "metadata": {},
   "outputs": [],
   "source": []
  }
 ],
 "metadata": {
  "kernelspec": {
   "display_name": "Python 3 (ipykernel)",
   "language": "python",
   "name": "python3"
  },
  "language_info": {
   "codemirror_mode": {
    "name": "ipython",
    "version": 3
   },
   "file_extension": ".py",
   "mimetype": "text/x-python",
   "name": "python",
   "nbconvert_exporter": "python",
   "pygments_lexer": "ipython3",
   "version": "3.9.13"
  }
 },
 "nbformat": 4,
 "nbformat_minor": 5
}
